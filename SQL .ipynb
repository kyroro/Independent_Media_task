{
 "cells": [
  {
   "cell_type": "code",
   "execution_count": null,
   "id": "fcef732d",
   "metadata": {},
   "outputs": [],
   "source": [
    "Задание 1\n",
    "Написать запрос для нахождения наименее популярной подкатегории по числу просмотров за ноябрь 2019 года\n",
    "\n",
    "SELECT DISTINCT(material_id) AS material,\n",
    "count(view_at) OVER(\n",
    "PARTITION BY material_id) AS count_view,\n",
    "category_id\n",
    "FROM views_log AS vl\n",
    "JOIN material AS m ON vl.material_id = m.id \n",
    "WHERE view_at BETWEEN '2019-11-01' AND '2019-11-30'\n",
    "ORDER BY count_view  "
   ]
  },
  {
   "cell_type": "code",
   "execution_count": null,
   "id": "61794b49",
   "metadata": {},
   "outputs": [],
   "source": [
    "Задание 2\n",
    "Вывести количество уникальных пользователей, читавших в период с 15 мая по 20 июня 2020 года, материалы автора Василисы Петровой, относящиеся к категории “Домашний уют“ и опубликованные в апреле 2020 года\n",
    "\n",
    "SELECT DISTINCT(count(user_id))\n",
    "FROM material AS m\n",
    "JOIN category AS c ON c.id = m.category_id \n",
    "JOIN publisher AS p ON m.publisher_id  = p.id\n",
    "JOIN views_log AS vl ON vl.material_id  = m.id\n",
    "WHERE p.first_name = 'Василисы' AND p.last_name = 'Петровой' AND c.category_name = 'Домашний уют' \n",
    "AND publication_date BETWEEN '2020-04-01' AND '2020-04-30' AND view_at BETWEEN '2020-05-15' AND '2020-06-30'"
   ]
  },
  {
   "cell_type": "code",
   "execution_count": null,
   "id": "1bc97b37",
   "metadata": {},
   "outputs": [],
   "source": [
    "Задание 3\n",
    "Вывести количество материалов, опубликованных в 2018 году с разбивкой по месяцам и общим числом просмотров за 2018 год по месяцам\n",
    "\n",
    "SELECT DISTINCT(MONTH(publication_date)) AS mount_date,\n",
    "count(publication_date) OVER(\n",
    "PARTITION BY publication_date) AS count_publication,\n",
    "count(view_at) AS count_view\n",
    "FROM material AS m\n",
    "JOIN category AS c ON c.id = m.category_id \n",
    "JOIN publisher AS p ON m.publisher_id  = p.id\n",
    "JOIN views_log AS vl ON vl.material_id  = m.id\n",
    "WHERE publication_date BETWEEN '2018-01-01' AND '2018-12-30'\n",
    "GROUP BY view_at"
   ]
  }
 ],
 "metadata": {
  "kernelspec": {
   "display_name": "Python 3 (ipykernel)",
   "language": "python",
   "name": "python3"
  },
  "language_info": {
   "codemirror_mode": {
    "name": "ipython",
    "version": 3
   },
   "file_extension": ".py",
   "mimetype": "text/x-python",
   "name": "python",
   "nbconvert_exporter": "python",
   "pygments_lexer": "ipython3",
   "version": "3.10.5"
  }
 },
 "nbformat": 4,
 "nbformat_minor": 5
}
